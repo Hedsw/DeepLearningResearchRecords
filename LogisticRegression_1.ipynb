{
  "nbformat": 4,
  "nbformat_minor": 0,
  "metadata": {
    "colab": {
      "name": "LogisticRegression_1.ipynb",
      "provenance": [],
      "private_outputs": true,
      "authorship_tag": "ABX9TyNXnFWXcf08dF2wC5B3VX2V"
    },
    "kernelspec": {
      "name": "python3",
      "display_name": "Python 3"
    }
  },
  "cells": [
    {
      "cell_type": "code",
      "metadata": {
        "id": "rvUOVyTR0G44"
      },
      "source": [
        "import tensorflow as tf\n",
        "\n",
        "x_data = [[1, 2],\n",
        "          [2, 3],\n",
        "          [3, 1],\n",
        "          [4, 3],\n",
        "          [5, 3],\n",
        "          [6, 2]]\n",
        "y_data = [[0],\n",
        "          [0],\n",
        "          [0],\n",
        "          [1],\n",
        "          [1],\n",
        "          [1]]\n",
        "\n",
        "tf.model = tf.keras.Sequential()\n",
        "tf.model.add(tf.keras.layers.Dense(units=1, input_dim=2))\n",
        "# use sigmoid activation for 0~1 problem\n",
        "tf.model.add(tf.keras.layers.Activation('sigmoid'))\n",
        "\n",
        "''' \n",
        "better result with loss function == 'binary_crossentropy', try 'mse' for yourself\n",
        "adding accuracy metric to get accuracy report during training\n",
        "'''\n",
        "tf.model.compile(loss='binary_crossentropy', optimizer=tf.keras.optimizers.SGD(lr=0.01), metrics=['accuracy'])\n",
        "tf.model.summary()\n",
        "\n",
        "history = tf.model.fit(x_data, y_data, epochs=100)\n",
        "\n",
        "print(\"Accuracy: \", history.history['accuracy'][-1])\n"
      ],
      "execution_count": null,
      "outputs": []
    }
  ]
}