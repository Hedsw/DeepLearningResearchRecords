{
  "nbformat": 4,
  "nbformat_minor": 0,
  "metadata": {
    "colab": {
      "name": "Softmax.ipynb",
      "provenance": [],
      "private_outputs": true,
      "authorship_tag": "ABX9TyN0hHZek9cz/SaYfpNargfz"
    },
    "kernelspec": {
      "name": "python3",
      "display_name": "Python 3"
    }
  },
  "cells": [
    {
      "cell_type": "code",
      "metadata": {
        "id": "hrduoUk1LNRG"
      },
      "source": [
        "# Lab 6 Softmax Classifier\n",
        "import tensorflow as tf\n",
        "import numpy as np\n",
        "\n",
        "x_raw = [[1, 2, 1, 1],\n",
        "          [2, 1, 3, 2],\n",
        "          [3, 1, 3, 4],\n",
        "          [4, 1, 5, 5],\n",
        "          [1, 7, 5, 5],\n",
        "          [1, 2, 5, 6],\n",
        "          [1, 6, 6, 6],\n",
        "          [1, 7, 7, 7]]\n",
        "y_raw = [[0, 0, 1],\n",
        "          [0, 0, 1],\n",
        "          [0, 0, 1],\n",
        "          [0, 1, 0],\n",
        "          [0, 1, 0],\n",
        "          [0, 1, 0],\n",
        "          [1, 0, 0],\n",
        "          [1, 0, 0]]\n",
        "\n",
        "x_data = np.array(x_raw, dtype=np.float32)\n",
        "y_data = np.array(y_raw, dtype=np.float32)\n",
        "\n",
        "nb_classes = 3\n",
        "\n",
        "tf.model = tf.keras.Sequential() #input_dim = Input Value // # units = output Value \n",
        "tf.model.add(tf.keras.layers.Dense(input_dim=4, units=nb_classes, use_bias=True))  # use_bias is True, by default\n",
        "\n",
        "# use softmax activations: softmax = exp(logits) / reduce_sum(exp(logits), dim)\n",
        "tf.model.add(tf.keras.layers.Activation('softmax'))\n",
        "\n",
        "# use loss == categorical_crossentropy\n",
        "tf.model.compile(loss='categorical_crossentropy', optimizer=tf.keras.optimizers.SGD(lr=0.1), metrics=['accuracy'])\n",
        "tf.model.summary()\n",
        "\n",
        "history = tf.model.fit(x_data, y_data, epochs=50)\n",
        "\n",
        "print('--------------')\n",
        "# Testing & One-hot encoding\n",
        "a = tf.model.predict(np.array([[1, 11, 7, 9]]))\n",
        "print(a, tf.keras.backend.eval(tf.argmax(a, axis=1)))\n",
        "\n",
        "print('--------------')\n",
        "b = tf.model.predict(np.array([[1, 3, 4, 3]]))\n",
        "print(b, tf.keras.backend.eval(tf.argmax(b, axis=1)))\n",
        "\n",
        "print('--------------')\n",
        "# or use argmax embedded method, predict_classes\n",
        "c = tf.model.predict(np.array([[1, 1, 0, 1]]))\n",
        "c_onehot = tf.model.predict_classes(np.array([[1, 1, 0, 1]]))\n",
        "print(c, c_onehot)\n",
        "\n",
        "print('--------------')\n",
        "all = tf.model.predict(np.array([[1, 11, 7, 9], [1, 3, 4, 3], [1, 1, 0, 1]]))\n",
        "all_onehot = tf.model.predict_classes(np.array([[1, 11, 7, 9], [1, 3, 4, 3], [1, 1, 0, 1]]))\n",
        "print(all, all_onehot)\n"
      ],
      "execution_count": null,
      "outputs": []
    }
  ]
}